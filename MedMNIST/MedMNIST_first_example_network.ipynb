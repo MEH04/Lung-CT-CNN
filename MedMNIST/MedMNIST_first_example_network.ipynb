{
 "cells": [
  {
   "cell_type": "markdown",
   "id": "f45962af",
   "metadata": {},
   "source": [
    "## Import"
   ]
  },
  {
   "cell_type": "code",
   "execution_count": 153,
   "id": "48d43353",
   "metadata": {},
   "outputs": [],
   "source": [
    "from tqdm import tqdm\n",
    "import numpy as np\n",
    "import torch\n",
    "import torch.nn as nn\n",
    "import torch.optim as optim\n",
    "import torch.utils.data as data\n",
    "import torchvision.transforms as transforms\n",
    "import matplotlib.pyplot as plt\n",
    "from sklearn.metrics import confusion_matrix, classification_report\n",
    "import medmnist\n",
    "import seaborn as sns\n",
    "from medmnist import INFO, Evaluator"
   ]
  },
  {
   "cell_type": "markdown",
   "id": "52554e7e",
   "metadata": {},
   "source": [
    "## Visualisation\n",
    "`dataset`: gives description of dataset\\\n",
    "`dataset[n][0]` the image of patient n\\\n",
    "`dataset[n][1]` binary classification class: `[0]` = normal, `[1]` = pneumonia\n",
    "\n",
    "In this section, we import the 'test' section of the dataset for visualisation. **Note:** None of these variables used after this block."
   ]
  },
  {
   "cell_type": "code",
   "execution_count": 151,
   "id": "0206677c",
   "metadata": {
    "scrolled": false
   },
   "outputs": [
    {
     "name": "stdout",
     "output_type": "stream",
     "text": [
      "Dataset PneumoniaMNIST of size 28 (pneumoniamnist)\n",
      "    Number of datapoints: 4708\n",
      "    Root location: C:\\Users\\veedu\\.medmnist\n",
      "    Split: train\n",
      "    Task: binary-class\n",
      "    Number of channels: 1\n",
      "    Meaning of labels: {'0': 'normal', '1': 'pneumonia'}\n",
      "    Number of samples: {'train': 4708, 'val': 524, 'test': 624}\n",
      "    Description: The PneumoniaMNIST is based on a prior dataset of 5,856 pediatric chest X-Ray images. The task is binary-class classification of pneumonia against normal. We split the source training set with a ratio of 9:1 into training and validation set and use its source validation set as the test set. The source images are gray-scale, and their sizes are (384−2,916)×(127−2,713). We center-crop the images and resize them into 1×28×28.\n",
      "    License: CC BY 4.0\n"
     ]
    },
    {
     "data": {
      "image/png": "[encoded data removed]",
      "text/plain": [
       "<Figure size 432x288 with 1 Axes>"
      ]
     },
     "metadata": {
      "needs_background": "light"
     },
     "output_type": "display_data"
    },
    {
     "data": {
      "image/png": "[encoded data removed]",
      "text/plain": [
       "<Figure size 432x288 with 1 Axes>"
      ]
     },
     "metadata": {
      "needs_background": "light"
     },
     "output_type": "display_data"
    }
   ],
   "source": [
    "from medmnist import PneumoniaMNIST\n",
    "dataset = PneumoniaMNIST(split='train',download=False)\n",
    "print(dataset)\n",
    "normal=0\n",
    "pneumonia=0\n",
    "for image in dataset: \n",
    "    if image[1] == [0]: \n",
    "        normal+=1\n",
    "    elif image[1] == [1]: \n",
    "        pneumonia+=1\n",
    "\n",
    "plt.bar(('normal','pneumonia'),(normal,pneumonia))\n",
    "plt.title('Number of pneumonia-positive patients in dataset')\n",
    "plt.show()\n",
    "\n",
    "plt.imshow(dataset[np.random.randint(len(dataset))][0],cmap='gray') #show random patient\n",
    "baseline=pneumonia/(pneumonia+normal)"
   ]
  },
  {
   "cell_type": "markdown",
   "id": "9a2ff800",
   "metadata": {},
   "source": [
    "## Dataset Variables"
   ]
  },
  {
   "cell_type": "markdown",
   "id": "acc71668",
   "metadata": {},
   "source": [
    "`INFO` method of `medmnist` provides all information about the dataset, type=dictionary. We extract some of the information from this for later use in the training process. \n",
    "\n",
    "Hyperparameters -- crucial to control for good results:\n",
    "1. `NUM_EPOCHS`: number of times the neural network is trained on the entire dataset.\n",
    "2. `BATCH_SIZE`: number of images before parameters of the NN are updates.\n",
    "3. `lr`: learning rate, controls how much the network's parameters are adjusted based on the errors during training."
   ]
  },
  {
   "cell_type": "code",
   "execution_count": 145,
   "id": "dfc22a1b",
   "metadata": {},
   "outputs": [],
   "source": [
    "data_flag = 'pneumoniamnist'\n",
    "download = False\n",
    "\n",
    "num_epochs = 100 #no. of times the NN is trained on the entire dataset\n",
    "batch_size = 16 #no. of images before parameters are updated\n",
    "lr = 1e-5\n",
    "\n",
    "info = INFO[data_flag]\n",
    "task = info['task'] #binary classification or multi-classification?\n",
    "n_channels = info['n_channels'] #colour channels\n",
    "n_classes = len(info['label']) #number of classes\n",
    "\n",
    "DataClass = getattr(medmnist, info['python_class'])"
   ]
  },
  {
   "cell_type": "markdown",
   "id": "aa8feb80",
   "metadata": {},
   "source": [
    "## Preprocessing\n",
    "1. Define data transformer to transform PIL images into a tensor format, and apply a normalisation for better performance. \n",
    "2. Use the `DataClass` method defined above to create training and test dataset.\n",
    "3. `DataLoader`: Split data into batches and shuffle to avoid overfitting."
   ]
  },
  {
   "cell_type": "code",
   "execution_count": 55,
   "id": "e1f49709",
   "metadata": {},
   "outputs": [],
   "source": [
    "# Define Data Transform function\n",
    "data_transform = transforms.Compose([\n",
    "    transforms.ToTensor(),\n",
    "    transforms.Normalize(mean=[.5], std=[.5])\n",
    "])\n",
    "\n",
    "\n",
    "# Import Data\n",
    "train_dataset = DataClass(split='train', transform=data_transform, download=download)\n",
    "test_dataset = DataClass(split='test', transform=data_transform, download=download)\n",
    "validation_dataset = DataClass(split='val',transform=data_transform, download=download)\n",
    "\n",
    "# Data loaders\n",
    "train_loader = data.DataLoader(dataset=train_dataset, batch_size=BATCH_SIZE, shuffle=True)\n",
    "test_loader = data.DataLoader(dataset=test_dataset, batch_size=BATCH_SIZE, shuffle=False)\n",
    "val_loader = data.DataLoader(dataset=validation_dataset, batch_size=BATCH_SIZE, shuffle=False)"
   ]
  },
  {
   "cell_type": "markdown",
   "id": "dad284ab",
   "metadata": {},
   "source": [
    "## CNN Structure"
   ]
  },
  {
   "cell_type": "markdown",
   "id": "daefe5ae",
   "metadata": {},
   "source": [
    "First, define layers of CNN. Sequential Structure. \n",
    "\n",
    "1. `nn.Conv2d:` Applies 2D convolutions to extract features from images.\n",
    "2. `nn.BatchNorm2d:` Normalizes input to stabilize training.\n",
    "3. `nn.ReLU:` Type of activation function: introduces non-linearity for better learning.\n",
    "4. `nn.MaxPool2d:` Downsamples feature maps to reduce parameters and computational cost.\n",
    "\n",
    "Class `Net` inherits all functions from PyTorch `nn.module`. \n",
    "\n",
    "Next, define the optimiser and loss function.\n",
    "1. **Loss Function**: A loss function measures the difference between the model's predictions and the actual labels. Common choice is Cross-Entropy Loss -- penalizes the model for making incorrect predictions, considering the probability distribution of the predicted classes. \n",
    "2. **Optimiser:**  updates the model's internal parameters (weights and biases) based on the calculated loss."
   ]
  },
  {
   "cell_type": "code",
   "execution_count": 64,
   "id": "d34581d3",
   "metadata": {},
   "outputs": [],
   "source": [
    "class Net(nn.Module):\n",
    "    def __init__(self, in_channels, num_classes):\n",
    "        super(Net, self).__init__()\n",
    "\n",
    "        self.layer1 = nn.Sequential(\n",
    "            nn.Conv2d(in_channels, 16, kernel_size=3),\n",
    "            nn.BatchNorm2d(16),\n",
    "            nn.ReLU())\n",
    "\n",
    "        self.layer2 = nn.Sequential(\n",
    "            nn.Conv2d(16, 16, kernel_size=3),\n",
    "            nn.BatchNorm2d(16),\n",
    "            nn.ReLU(),\n",
    "            nn.MaxPool2d(kernel_size=2, stride=2))\n",
    "\n",
    "        self.layer3 = nn.Sequential(\n",
    "            nn.Conv2d(16, 64, kernel_size=3),\n",
    "            nn.BatchNorm2d(64),\n",
    "            nn.ReLU())\n",
    "        \n",
    "        self.layer4 = nn.Sequential(\n",
    "            nn.Conv2d(64, 64, kernel_size=3),\n",
    "            nn.BatchNorm2d(64),\n",
    "            nn.ReLU())\n",
    "\n",
    "        self.layer5 = nn.Sequential(\n",
    "            nn.Conv2d(64, 64, kernel_size=3, padding=1),\n",
    "            nn.BatchNorm2d(64),\n",
    "            nn.ReLU(),\n",
    "            nn.MaxPool2d(kernel_size=2, stride=2))\n",
    "\n",
    "        self.fc = nn.Sequential(\n",
    "            nn.Linear(64 * 4 * 4, 128),\n",
    "            nn.ReLU(),\n",
    "            nn.Linear(128, 128),\n",
    "            nn.ReLU(),\n",
    "            nn.Linear(128, num_classes))\n",
    "\n",
    "    def forward(self, x):\n",
    "        x = self.layer1(x)\n",
    "        x = self.layer2(x)\n",
    "        x = self.layer3(x)\n",
    "        x = self.layer4(x)\n",
    "        x = self.layer5(x)\n",
    "        x = x.view(x.size(0), -1)\n",
    "        x = self.fc(x)\n",
    "        return x\n",
    "\n",
    "model = Net(in_channels=n_channels, num_classes=n_classes) #build model\n",
    "    \n",
    "# define loss function and optimizer\n",
    "criterion = nn.CrossEntropyLoss()\n",
    "    \n",
    "optimizer = optim.SGD(model.parameters(), lr=lr, momentum=0.9)"
   ]
  },
  {
   "cell_type": "markdown",
   "id": "8c600f24",
   "metadata": {},
   "source": [
    "## Quality Evaluation"
   ]
  },
  {
   "cell_type": "markdown",
   "id": "6107dafa",
   "metadata": {},
   "source": [
    "Now, using the trained network, evaluate if the network predicts the correct outputs for the test dataset.\n",
    "- `model(inputs)` returns an array, where each element in the array is a number corresponding to the likelihood of the image being in this class.\n",
    "- `softmax` normalises these raw numbers into probabilities. \n",
    "- Two arrays are created, one to store the actual label `y_true` and the other to store the prediction `y_score`. \n",
    "- Create an evaluator function from the `mednist` library and feed `y_score`. \n",
    "- Returns two metrics: accuracy (acc) and area under curve (auc). \n",
    "\n",
    "auc: consists of *True Positive Rate* : Proportion of actual positive cases correctly identified as positive by the model (also known as Recall) and *False Positive Rate*: Proportion of actual negative cases incorrectly identified as positive by the model (also known as Type I error)."
   ]
  },
  {
   "cell_type": "code",
   "execution_count": null,
   "id": "900d7932",
   "metadata": {},
   "outputs": [],
   "source": [
    "def evaluator(model,loader,label,acc_array,epoch=1):\n",
    "    y_true = torch.tensor([]).to(device)\n",
    "    y_score = torch.tensor([]).to(device)\n",
    "    with torch.no_grad():\n",
    "        for inputs, targets in loader:\n",
    "            inputs, targets = inputs.to(device), targets.to(device)\n",
    "            outputs = model(inputs)\n",
    "\n",
    "            # Process target and outputs (on GPU)\n",
    "            targets = targets.squeeze().long()\n",
    "            outputs = outputs.softmax(dim=-1)  # convert to probability\n",
    "            targets = targets.float().resize_(len(targets), 1)\n",
    "\n",
    "            y_true = torch.cat((y_true, targets), 0)  # targets\n",
    "            y_score = torch.cat((y_score, outputs), 0)  # predicted output + probability\n",
    "\n",
    "        y_true = y_true.cpu().numpy()  # Move data back to CPU for evaluation\n",
    "        y_score = y_score.cpu().detach().numpy()\n",
    "                \n",
    "        evaluator = Evaluator(data_flag, label)\n",
    "        auc, acc = evaluator.evaluate(y_score)\n",
    "        acc_array[epoch] = acc\n",
    "    return y_true, y_score, acc_array"
   ]
  },
  {
   "cell_type": "markdown",
   "id": "1609605b",
   "metadata": {},
   "source": [
    "## Training\n",
    "*How does the training process work?*\n",
    "1. Model takes a batch of images and their corresponding labels.\n",
    "2. It predicts class probabilities for each image.\n",
    "3. The loss function calculates the difference between these predictions and the true labels.\n",
    "4. The gradients of the loss function with respect to each model parameter are computed (backpropagation).\n",
    "5. The chosen optimizer uses these gradients to update the model's parameters in a direction that reduces the loss.\n",
    "6. This process repeats for each batch of data over multiple epochs (complete passes through the entire dataset)."
   ]
  },
  {
   "cell_type": "markdown",
   "id": "db968096",
   "metadata": {},
   "source": [
    "*Code*: \n",
    "For each epoch: \n",
    "1. Set model to traning mode\n",
    "2. Refer back to `train_loader` variable: this is the training dataset split into a number of each batches. Code loops through each batch. `inputs` = input images, `targets` = image label\n",
    "3. For each batch, set optimiser to zero. Feed inputs through the network, and evaluate the loss function. Perform back propagation then update parameters.\n",
    "4. Evaluate current performance on validation and testing set."
   ]
  },
  {
   "cell_type": "code",
   "execution_count": 85,
   "id": "850940b5",
   "metadata": {
    "scrolled": true
   },
   "outputs": [
    {
     "name": "stderr",
     "output_type": "stream",
     "text": [
      "100%|██████████| 148/148 [00:01<00:00, 126.96it/s]\n",
      "100%|██████████| 148/148 [00:01<00:00, 139.27it/s]\n",
      "100%|██████████| 148/148 [00:01<00:00, 139.93it/s]\n",
      "100%|██████████| 148/148 [00:01<00:00, 144.22it/s]\n",
      "100%|██████████| 148/148 [00:01<00:00, 143.11it/s]\n",
      "100%|██████████| 148/148 [00:01<00:00, 143.11it/s]\n",
      "100%|██████████| 148/148 [00:01<00:00, 144.01it/s]\n",
      "100%|██████████| 148/148 [00:01<00:00, 143.66it/s]\n",
      "100%|██████████| 148/148 [00:01<00:00, 143.11it/s]\n",
      "100%|██████████| 148/148 [00:01<00:00, 142.15it/s]\n",
      "100%|██████████| 148/148 [00:01<00:00, 144.37it/s]\n",
      "100%|██████████| 148/148 [00:01<00:00, 142.83it/s]\n",
      "100%|██████████| 148/148 [00:01<00:00, 143.46it/s]\n",
      "100%|██████████| 148/148 [00:01<00:00, 142.49it/s]\n",
      "100%|██████████| 148/148 [00:01<00:00, 143.53it/s]\n",
      "100%|██████████| 148/148 [00:01<00:00, 139.07it/s]\n",
      "100%|██████████| 148/148 [00:01<00:00, 141.94it/s]\n",
      "100%|██████████| 148/148 [00:01<00:00, 143.04it/s]\n",
      "100%|██████████| 148/148 [00:01<00:00, 143.66it/s]\n",
      "100%|██████████| 148/148 [00:01<00:00, 143.87it/s]\n",
      "100%|██████████| 148/148 [00:01<00:00, 142.76it/s]\n",
      "100%|██████████| 148/148 [00:01<00:00, 142.83it/s]\n",
      "100%|██████████| 148/148 [00:01<00:00, 143.31it/s]\n",
      "100%|██████████| 148/148 [00:01<00:00, 143.18it/s]\n",
      "100%|██████████| 148/148 [00:01<00:00, 143.46it/s]\n",
      "100%|██████████| 148/148 [00:01<00:00, 142.08it/s]\n",
      "100%|██████████| 148/148 [00:01<00:00, 143.59it/s]\n",
      "100%|██████████| 148/148 [00:01<00:00, 143.11it/s]\n",
      "100%|██████████| 148/148 [00:01<00:00, 141.20it/s]\n",
      "100%|██████████| 148/148 [00:01<00:00, 142.15it/s]\n",
      "100%|██████████| 148/148 [00:01<00:00, 143.73it/s]\n",
      "100%|██████████| 148/148 [00:01<00:00, 143.04it/s]\n",
      "100%|██████████| 148/148 [00:01<00:00, 143.73it/s]\n",
      "100%|██████████| 148/148 [00:01<00:00, 142.83it/s]\n",
      "100%|██████████| 148/148 [00:01<00:00, 139.40it/s]\n",
      "100%|██████████| 148/148 [00:01<00:00, 142.97it/s]\n",
      "100%|██████████| 148/148 [00:01<00:00, 143.80it/s]\n",
      "100%|██████████| 148/148 [00:01<00:00, 143.18it/s]\n",
      "100%|██████████| 148/148 [00:01<00:00, 144.08it/s]\n",
      "100%|██████████| 148/148 [00:01<00:00, 144.22it/s]\n",
      "100%|██████████| 148/148 [00:01<00:00, 143.66it/s]\n",
      "100%|██████████| 148/148 [00:01<00:00, 140.90it/s]\n",
      "100%|██████████| 148/148 [00:01<00:00, 141.67it/s]\n",
      "100%|██████████| 148/148 [00:01<00:00, 143.39it/s]\n",
      "100%|██████████| 148/148 [00:01<00:00, 143.66it/s]\n",
      "100%|██████████| 148/148 [00:01<00:00, 143.53it/s]\n",
      "100%|██████████| 148/148 [00:01<00:00, 144.29it/s]\n",
      "100%|██████████| 148/148 [00:01<00:00, 143.25it/s]\n",
      "100%|██████████| 148/148 [00:01<00:00, 143.25it/s]\n",
      "100%|██████████| 148/148 [00:01<00:00, 144.08it/s]\n",
      "100%|██████████| 148/148 [00:01<00:00, 143.46it/s]\n",
      "100%|██████████| 148/148 [00:01<00:00, 143.52it/s]\n",
      "100%|██████████| 148/148 [00:01<00:00, 143.39it/s]\n",
      "100%|██████████| 148/148 [00:01<00:00, 143.80it/s]\n",
      "100%|██████████| 148/148 [00:01<00:00, 141.40it/s]\n",
      "100%|██████████| 148/148 [00:01<00:00, 142.21it/s]\n",
      "100%|██████████| 148/148 [00:01<00:00, 142.83it/s]\n",
      "100%|██████████| 148/148 [00:01<00:00, 143.46it/s]\n",
      "100%|██████████| 148/148 [00:01<00:00, 142.35it/s]\n",
      "100%|██████████| 148/148 [00:01<00:00, 143.46it/s]\n",
      "100%|██████████| 148/148 [00:01<00:00, 142.76it/s]\n",
      "100%|██████████| 148/148 [00:01<00:00, 143.32it/s]\n",
      "100%|██████████| 148/148 [00:01<00:00, 142.63it/s]\n",
      "100%|██████████| 148/148 [00:01<00:00, 143.59it/s]\n",
      "100%|██████████| 148/148 [00:01<00:00, 143.73it/s]\n",
      "100%|██████████| 148/148 [00:01<00:00, 143.01it/s]\n",
      "100%|██████████| 148/148 [00:01<00:00, 143.53it/s]\n",
      "100%|██████████| 148/148 [00:01<00:00, 142.97it/s]\n",
      "100%|██████████| 148/148 [00:01<00:00, 140.59it/s]\n",
      "100%|██████████| 148/148 [00:01<00:00, 143.87it/s]\n",
      "100%|██████████| 148/148 [00:01<00:00, 142.76it/s]\n",
      "100%|██████████| 148/148 [00:01<00:00, 143.59it/s]\n",
      "100%|██████████| 148/148 [00:01<00:00, 143.24it/s]\n",
      "100%|██████████| 148/148 [00:01<00:00, 143.11it/s]\n",
      "100%|██████████| 148/148 [00:01<00:00, 143.94it/s]\n",
      "100%|██████████| 148/148 [00:01<00:00, 143.18it/s]\n",
      "100%|██████████| 148/148 [00:01<00:00, 143.73it/s]\n",
      "100%|██████████| 148/148 [00:01<00:00, 142.15it/s]\n",
      "100%|██████████| 148/148 [00:01<00:00, 143.39it/s]\n",
      "100%|██████████| 148/148 [00:01<00:00, 142.90it/s]\n",
      "100%|██████████| 148/148 [00:01<00:00, 143.25it/s]\n",
      "100%|██████████| 148/148 [00:01<00:00, 139.47it/s]\n",
      "100%|██████████| 148/148 [00:01<00:00, 143.25it/s]\n",
      "100%|██████████| 148/148 [00:01<00:00, 142.97it/s]\n",
      "100%|██████████| 148/148 [00:01<00:00, 142.69it/s]\n",
      "100%|██████████| 148/148 [00:01<00:00, 143.32it/s]\n",
      "100%|██████████| 148/148 [00:01<00:00, 143.59it/s]\n",
      "100%|██████████| 148/148 [00:01<00:00, 143.66it/s]\n",
      "100%|██████████| 148/148 [00:01<00:00, 144.01it/s]\n",
      "100%|██████████| 148/148 [00:01<00:00, 143.73it/s]\n",
      "100%|██████████| 148/148 [00:01<00:00, 143.94it/s]\n",
      "100%|██████████| 148/148 [00:01<00:00, 142.63it/s]\n",
      "100%|██████████| 148/148 [00:01<00:00, 144.29it/s]\n",
      "100%|██████████| 148/148 [00:01<00:00, 143.53it/s]\n",
      "100%|██████████| 148/148 [00:01<00:00, 140.53it/s]\n",
      "100%|██████████| 148/148 [00:01<00:00, 143.04it/s]\n",
      "100%|██████████| 148/148 [00:01<00:00, 142.76it/s]\n",
      "100%|██████████| 148/148 [00:01<00:00, 144.44it/s]\n",
      "100%|██████████| 148/148 [00:01<00:00, 142.83it/s]\n",
      "100%|██████████| 148/148 [00:01<00:00, 144.01it/s]\n"
     ]
    }
   ],
   "source": [
    "# Check for available GPU\n",
    "if torch.cuda.is_available():\n",
    "    device = torch.device(\"cuda\")\n",
    "else:\n",
    "    device = torch.device(\"cpu\")\n",
    "\n",
    "\n",
    "\n",
    "# Move model and tensors to GPU\n",
    "model = Net(n_channels,n_classes).to(device)  # Move model to GPU\n",
    "criterion = nn.CrossEntropyLoss().to(device)\n",
    "\n",
    "optimizer = optim.SGD(model.parameters(), lr=lr, momentum=0.9)\n",
    "\n",
    "val_acc_array = np.zeros(num_epochs)\n",
    "test_acc_array = np.zeros(num_epochs)\n",
    "# Move data to GPU inside the loops\n",
    "for epoch in range(num_epochs):\n",
    "    model.train()\n",
    "    for inputs, targets in tqdm(train_loader):\n",
    "        inputs, targets = inputs.to(device), targets.to(device)\n",
    "\n",
    "        # Forward + backward + optimize\n",
    "        optimizer.zero_grad()\n",
    "        outputs = model(inputs)\n",
    "\n",
    "        if task == 'multi-label, binary-class':\n",
    "            targets = targets.to(torch.float32)\n",
    "            loss = criterion(outputs, targets)\n",
    "        else:\n",
    "            targets = targets.squeeze().long()\n",
    "            loss = criterion(outputs, targets)\n",
    "\n",
    "        loss.backward()\n",
    "        optimizer.step()\n",
    "\n",
    "    model.eval()\n",
    "    _, _, val_acc_array = evaluator(model,val_loader,'val',val_acc_array,epoch)\n",
    "    y_true, y_score, test_acc_array = evaluator(model,test_loader,'test',test_acc_array,epoch)\n",
    "\n",
    "\n",
    "\n"
   ]
  },
  {
   "cell_type": "markdown",
   "id": "6efb8196",
   "metadata": {},
   "source": [
    "Accuracy Plot"
   ]
  },
  {
   "cell_type": "code",
   "execution_count": 152,
   "id": "569f21b4",
   "metadata": {
    "scrolled": true
   },
   "outputs": [
    {
     "data": {
      "image/png": "[encoded data removed]",
      "text/plain": [
       "<Figure size 432x288 with 1 Axes>"
      ]
     },
     "metadata": {
      "needs_background": "light"
     },
     "output_type": "display_data"
    }
   ],
   "source": [
    "n=np.linspace(0,num_epochs+1,num_epochs)\n",
    "plt.plot(n,val_acc_array,color='orange',label='Validation')\n",
    "plt.plot(n,test_acc_array,color='blue',label='Test')\n",
    "plt.xlabel('Epoch',fontsize=14)\n",
    "plt.ylabel('Accuracy',fontsize=14)\n",
    "plt.axhline(baseline,color='red',ls=':',label='Baseline')\n",
    "plt.legend(loc='lower right',fontsize=14)\n",
    "plt.title('Training Process',fontsize=16,fontweight='bold')\n",
    "plt.grid()\n",
    "plt.show()\n",
    "\n",
    "\n"
   ]
  },
  {
   "cell_type": "markdown",
   "id": "fc80fe8b",
   "metadata": {},
   "source": [
    "Confusion Matrix"
   ]
  },
  {
   "cell_type": "code",
   "execution_count": 131,
   "id": "77d51abb",
   "metadata": {},
   "outputs": [
    {
     "data": {
      "image/png": "[encoded data removed]",
      "text/plain": [
       "<Figure size 432x288 with 2 Axes>"
      ]
     },
     "metadata": {
      "needs_background": "light"
     },
     "output_type": "display_data"
    },
    {
     "name": "stdout",
     "output_type": "stream",
     "text": [
      "              precision    recall  f1-score   support\n",
      "\n",
      "         0.0       0.94      0.57      0.71       234\n",
      "         1.0       0.79      0.98      0.88       390\n",
      "\n",
      "    accuracy                           0.83       624\n",
      "   macro avg       0.87      0.78      0.79       624\n",
      "weighted avg       0.85      0.83      0.81       624\n",
      "\n"
     ]
    }
   ],
   "source": [
    "y_pred_classes = np.argmax(y_score, axis=1)  # Get predicted class indices\n",
    "cm = confusion_matrix(y_true, y_pred_classes)\n",
    "class_names = ['Normal', 'Pneumonia']\n",
    "samples = len(test_dataset)\n",
    "sns.heatmap(cm, \n",
    "            annot=True,\n",
    "            fmt='g', \n",
    "            xticklabels=class_names,\n",
    "            yticklabels=class_names)\n",
    "plt.ylabel('$\\it{Prediction}$',fontsize=13)\n",
    "plt.xlabel('$\\it{Actual}$',fontsize=13)\n",
    "plt.title(f'Test Dataset ($N={samples}$) Confusion Matrix',fontsize=17)\n",
    "plt.show()\n",
    "\n",
    " \n",
    "print(classification_report(y_true, y_pred_classes))"
   ]
  },
  {
   "cell_type": "code",
   "execution_count": null,
   "id": "602f79f5",
   "metadata": {},
   "outputs": [],
   "source": []
  }
 ],
 "metadata": {
  "kernelspec": {
   "display_name": "Python 3",
   "language": "python",
   "name": "python3"
  },
  "language_info": {
   "codemirror_mode": {
    "name": "ipython",
    "version": 3
   },
   "file_extension": ".py",
   "mimetype": "text/x-python",
   "name": "python",
   "nbconvert_exporter": "python",
   "pygments_lexer": "ipython3",
   "version": "3.8.8"
  }
 },
 "nbformat": 4,
 "nbformat_minor": 5
}
